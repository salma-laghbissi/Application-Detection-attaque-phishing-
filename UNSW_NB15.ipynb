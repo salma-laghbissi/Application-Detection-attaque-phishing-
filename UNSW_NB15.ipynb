{
 "cells": [
  {
   "cell_type": "code",
   "execution_count": 1,
   "id": "c814b86f",
   "metadata": {},
   "outputs": [],
   "source": [
    "import os\n",
    "import pandas as pd\n",
    "import numpy as np\n",
    "import matplotlib.pyplot as plt\n",
    "import seaborn as sns\n",
    "import time"
   ]
  },
  {
   "cell_type": "code",
   "execution_count": 2,
   "id": "75f5d716",
   "metadata": {
    "scrolled": false
   },
   "outputs": [
    {
     "data": {
      "text/html": [
       "<div>\n",
       "<style scoped>\n",
       "    .dataframe tbody tr th:only-of-type {\n",
       "        vertical-align: middle;\n",
       "    }\n",
       "\n",
       "    .dataframe tbody tr th {\n",
       "        vertical-align: top;\n",
       "    }\n",
       "\n",
       "    .dataframe thead th {\n",
       "        text-align: right;\n",
       "    }\n",
       "</style>\n",
       "<table border=\"1\" class=\"dataframe\">\n",
       "  <thead>\n",
       "    <tr style=\"text-align: right;\">\n",
       "      <th></th>\n",
       "      <th>id</th>\n",
       "      <th>dur</th>\n",
       "      <th>proto</th>\n",
       "      <th>service</th>\n",
       "      <th>state</th>\n",
       "      <th>spkts</th>\n",
       "      <th>dpkts</th>\n",
       "      <th>sbytes</th>\n",
       "      <th>dbytes</th>\n",
       "      <th>rate</th>\n",
       "      <th>...</th>\n",
       "      <th>ct_dst_sport_ltm</th>\n",
       "      <th>ct_dst_src_ltm</th>\n",
       "      <th>is_ftp_login</th>\n",
       "      <th>ct_ftp_cmd</th>\n",
       "      <th>ct_flw_http_mthd</th>\n",
       "      <th>ct_src_ltm</th>\n",
       "      <th>ct_srv_dst</th>\n",
       "      <th>is_sm_ips_ports</th>\n",
       "      <th>attack_cat</th>\n",
       "      <th>label</th>\n",
       "    </tr>\n",
       "  </thead>\n",
       "  <tbody>\n",
       "    <tr>\n",
       "      <th>0</th>\n",
       "      <td>1</td>\n",
       "      <td>0.121478</td>\n",
       "      <td>tcp</td>\n",
       "      <td>-</td>\n",
       "      <td>FIN</td>\n",
       "      <td>6</td>\n",
       "      <td>4</td>\n",
       "      <td>258</td>\n",
       "      <td>172</td>\n",
       "      <td>74.087490</td>\n",
       "      <td>...</td>\n",
       "      <td>1</td>\n",
       "      <td>1</td>\n",
       "      <td>0</td>\n",
       "      <td>0</td>\n",
       "      <td>0</td>\n",
       "      <td>1</td>\n",
       "      <td>1</td>\n",
       "      <td>0</td>\n",
       "      <td>Normal</td>\n",
       "      <td>0</td>\n",
       "    </tr>\n",
       "    <tr>\n",
       "      <th>1</th>\n",
       "      <td>2</td>\n",
       "      <td>0.649902</td>\n",
       "      <td>tcp</td>\n",
       "      <td>-</td>\n",
       "      <td>FIN</td>\n",
       "      <td>14</td>\n",
       "      <td>38</td>\n",
       "      <td>734</td>\n",
       "      <td>42014</td>\n",
       "      <td>78.473372</td>\n",
       "      <td>...</td>\n",
       "      <td>1</td>\n",
       "      <td>2</td>\n",
       "      <td>0</td>\n",
       "      <td>0</td>\n",
       "      <td>0</td>\n",
       "      <td>1</td>\n",
       "      <td>6</td>\n",
       "      <td>0</td>\n",
       "      <td>Normal</td>\n",
       "      <td>0</td>\n",
       "    </tr>\n",
       "    <tr>\n",
       "      <th>2</th>\n",
       "      <td>3</td>\n",
       "      <td>1.623129</td>\n",
       "      <td>tcp</td>\n",
       "      <td>-</td>\n",
       "      <td>FIN</td>\n",
       "      <td>8</td>\n",
       "      <td>16</td>\n",
       "      <td>364</td>\n",
       "      <td>13186</td>\n",
       "      <td>14.170161</td>\n",
       "      <td>...</td>\n",
       "      <td>1</td>\n",
       "      <td>3</td>\n",
       "      <td>0</td>\n",
       "      <td>0</td>\n",
       "      <td>0</td>\n",
       "      <td>2</td>\n",
       "      <td>6</td>\n",
       "      <td>0</td>\n",
       "      <td>Normal</td>\n",
       "      <td>0</td>\n",
       "    </tr>\n",
       "    <tr>\n",
       "      <th>3</th>\n",
       "      <td>4</td>\n",
       "      <td>1.681642</td>\n",
       "      <td>tcp</td>\n",
       "      <td>ftp</td>\n",
       "      <td>FIN</td>\n",
       "      <td>12</td>\n",
       "      <td>12</td>\n",
       "      <td>628</td>\n",
       "      <td>770</td>\n",
       "      <td>13.677108</td>\n",
       "      <td>...</td>\n",
       "      <td>1</td>\n",
       "      <td>3</td>\n",
       "      <td>1</td>\n",
       "      <td>1</td>\n",
       "      <td>0</td>\n",
       "      <td>2</td>\n",
       "      <td>1</td>\n",
       "      <td>0</td>\n",
       "      <td>Normal</td>\n",
       "      <td>0</td>\n",
       "    </tr>\n",
       "    <tr>\n",
       "      <th>4</th>\n",
       "      <td>5</td>\n",
       "      <td>0.449454</td>\n",
       "      <td>tcp</td>\n",
       "      <td>-</td>\n",
       "      <td>FIN</td>\n",
       "      <td>10</td>\n",
       "      <td>6</td>\n",
       "      <td>534</td>\n",
       "      <td>268</td>\n",
       "      <td>33.373826</td>\n",
       "      <td>...</td>\n",
       "      <td>1</td>\n",
       "      <td>40</td>\n",
       "      <td>0</td>\n",
       "      <td>0</td>\n",
       "      <td>0</td>\n",
       "      <td>2</td>\n",
       "      <td>39</td>\n",
       "      <td>0</td>\n",
       "      <td>Normal</td>\n",
       "      <td>0</td>\n",
       "    </tr>\n",
       "    <tr>\n",
       "      <th>...</th>\n",
       "      <td>...</td>\n",
       "      <td>...</td>\n",
       "      <td>...</td>\n",
       "      <td>...</td>\n",
       "      <td>...</td>\n",
       "      <td>...</td>\n",
       "      <td>...</td>\n",
       "      <td>...</td>\n",
       "      <td>...</td>\n",
       "      <td>...</td>\n",
       "      <td>...</td>\n",
       "      <td>...</td>\n",
       "      <td>...</td>\n",
       "      <td>...</td>\n",
       "      <td>...</td>\n",
       "      <td>...</td>\n",
       "      <td>...</td>\n",
       "      <td>...</td>\n",
       "      <td>...</td>\n",
       "      <td>...</td>\n",
       "      <td>...</td>\n",
       "    </tr>\n",
       "    <tr>\n",
       "      <th>175336</th>\n",
       "      <td>175337</td>\n",
       "      <td>0.000009</td>\n",
       "      <td>udp</td>\n",
       "      <td>dns</td>\n",
       "      <td>INT</td>\n",
       "      <td>2</td>\n",
       "      <td>0</td>\n",
       "      <td>114</td>\n",
       "      <td>0</td>\n",
       "      <td>111111.107200</td>\n",
       "      <td>...</td>\n",
       "      <td>13</td>\n",
       "      <td>24</td>\n",
       "      <td>0</td>\n",
       "      <td>0</td>\n",
       "      <td>0</td>\n",
       "      <td>24</td>\n",
       "      <td>24</td>\n",
       "      <td>0</td>\n",
       "      <td>Generic</td>\n",
       "      <td>1</td>\n",
       "    </tr>\n",
       "    <tr>\n",
       "      <th>175337</th>\n",
       "      <td>175338</td>\n",
       "      <td>0.505762</td>\n",
       "      <td>tcp</td>\n",
       "      <td>-</td>\n",
       "      <td>FIN</td>\n",
       "      <td>10</td>\n",
       "      <td>8</td>\n",
       "      <td>620</td>\n",
       "      <td>354</td>\n",
       "      <td>33.612649</td>\n",
       "      <td>...</td>\n",
       "      <td>1</td>\n",
       "      <td>2</td>\n",
       "      <td>0</td>\n",
       "      <td>0</td>\n",
       "      <td>0</td>\n",
       "      <td>1</td>\n",
       "      <td>1</td>\n",
       "      <td>0</td>\n",
       "      <td>Shellcode</td>\n",
       "      <td>1</td>\n",
       "    </tr>\n",
       "    <tr>\n",
       "      <th>175338</th>\n",
       "      <td>175339</td>\n",
       "      <td>0.000009</td>\n",
       "      <td>udp</td>\n",
       "      <td>dns</td>\n",
       "      <td>INT</td>\n",
       "      <td>2</td>\n",
       "      <td>0</td>\n",
       "      <td>114</td>\n",
       "      <td>0</td>\n",
       "      <td>111111.107200</td>\n",
       "      <td>...</td>\n",
       "      <td>3</td>\n",
       "      <td>13</td>\n",
       "      <td>0</td>\n",
       "      <td>0</td>\n",
       "      <td>0</td>\n",
       "      <td>3</td>\n",
       "      <td>12</td>\n",
       "      <td>0</td>\n",
       "      <td>Generic</td>\n",
       "      <td>1</td>\n",
       "    </tr>\n",
       "    <tr>\n",
       "      <th>175339</th>\n",
       "      <td>175340</td>\n",
       "      <td>0.000009</td>\n",
       "      <td>udp</td>\n",
       "      <td>dns</td>\n",
       "      <td>INT</td>\n",
       "      <td>2</td>\n",
       "      <td>0</td>\n",
       "      <td>114</td>\n",
       "      <td>0</td>\n",
       "      <td>111111.107200</td>\n",
       "      <td>...</td>\n",
       "      <td>14</td>\n",
       "      <td>30</td>\n",
       "      <td>0</td>\n",
       "      <td>0</td>\n",
       "      <td>0</td>\n",
       "      <td>30</td>\n",
       "      <td>30</td>\n",
       "      <td>0</td>\n",
       "      <td>Generic</td>\n",
       "      <td>1</td>\n",
       "    </tr>\n",
       "    <tr>\n",
       "      <th>175340</th>\n",
       "      <td>175341</td>\n",
       "      <td>0.000009</td>\n",
       "      <td>udp</td>\n",
       "      <td>dns</td>\n",
       "      <td>INT</td>\n",
       "      <td>2</td>\n",
       "      <td>0</td>\n",
       "      <td>114</td>\n",
       "      <td>0</td>\n",
       "      <td>111111.107200</td>\n",
       "      <td>...</td>\n",
       "      <td>16</td>\n",
       "      <td>30</td>\n",
       "      <td>0</td>\n",
       "      <td>0</td>\n",
       "      <td>0</td>\n",
       "      <td>30</td>\n",
       "      <td>30</td>\n",
       "      <td>0</td>\n",
       "      <td>Generic</td>\n",
       "      <td>1</td>\n",
       "    </tr>\n",
       "  </tbody>\n",
       "</table>\n",
       "<p>175341 rows × 45 columns</p>\n",
       "</div>"
      ],
      "text/plain": [
       "            id       dur proto service state  spkts  dpkts  sbytes  dbytes  \\\n",
       "0            1  0.121478   tcp       -   FIN      6      4     258     172   \n",
       "1            2  0.649902   tcp       -   FIN     14     38     734   42014   \n",
       "2            3  1.623129   tcp       -   FIN      8     16     364   13186   \n",
       "3            4  1.681642   tcp     ftp   FIN     12     12     628     770   \n",
       "4            5  0.449454   tcp       -   FIN     10      6     534     268   \n",
       "...        ...       ...   ...     ...   ...    ...    ...     ...     ...   \n",
       "175336  175337  0.000009   udp     dns   INT      2      0     114       0   \n",
       "175337  175338  0.505762   tcp       -   FIN     10      8     620     354   \n",
       "175338  175339  0.000009   udp     dns   INT      2      0     114       0   \n",
       "175339  175340  0.000009   udp     dns   INT      2      0     114       0   \n",
       "175340  175341  0.000009   udp     dns   INT      2      0     114       0   \n",
       "\n",
       "                 rate  ...  ct_dst_sport_ltm  ct_dst_src_ltm  is_ftp_login  \\\n",
       "0           74.087490  ...                 1               1             0   \n",
       "1           78.473372  ...                 1               2             0   \n",
       "2           14.170161  ...                 1               3             0   \n",
       "3           13.677108  ...                 1               3             1   \n",
       "4           33.373826  ...                 1              40             0   \n",
       "...               ...  ...               ...             ...           ...   \n",
       "175336  111111.107200  ...                13              24             0   \n",
       "175337      33.612649  ...                 1               2             0   \n",
       "175338  111111.107200  ...                 3              13             0   \n",
       "175339  111111.107200  ...                14              30             0   \n",
       "175340  111111.107200  ...                16              30             0   \n",
       "\n",
       "        ct_ftp_cmd  ct_flw_http_mthd  ct_src_ltm  ct_srv_dst  is_sm_ips_ports  \\\n",
       "0                0                 0           1           1                0   \n",
       "1                0                 0           1           6                0   \n",
       "2                0                 0           2           6                0   \n",
       "3                1                 0           2           1                0   \n",
       "4                0                 0           2          39                0   \n",
       "...            ...               ...         ...         ...              ...   \n",
       "175336           0                 0          24          24                0   \n",
       "175337           0                 0           1           1                0   \n",
       "175338           0                 0           3          12                0   \n",
       "175339           0                 0          30          30                0   \n",
       "175340           0                 0          30          30                0   \n",
       "\n",
       "        attack_cat  label  \n",
       "0           Normal      0  \n",
       "1           Normal      0  \n",
       "2           Normal      0  \n",
       "3           Normal      0  \n",
       "4           Normal      0  \n",
       "...            ...    ...  \n",
       "175336     Generic      1  \n",
       "175337   Shellcode      1  \n",
       "175338     Generic      1  \n",
       "175339     Generic      1  \n",
       "175340     Generic      1  \n",
       "\n",
       "[175341 rows x 45 columns]"
      ]
     },
     "execution_count": 2,
     "metadata": {},
     "output_type": "execute_result"
    }
   ],
   "source": [
    "df = pd.read_csv(\"UNSW_NB15.csv\")\n",
    "df"
   ]
  },
  {
   "cell_type": "code",
   "execution_count": 3,
   "id": "6b8e634f",
   "metadata": {},
   "outputs": [
    {
     "data": {
      "text/plain": [
       "id                   0\n",
       "dur                  0\n",
       "proto                0\n",
       "service              0\n",
       "state                0\n",
       "spkts                0\n",
       "dpkts                0\n",
       "sbytes               0\n",
       "dbytes               0\n",
       "rate                 0\n",
       "sttl                 0\n",
       "dttl                 0\n",
       "sload                0\n",
       "dload                0\n",
       "sloss                0\n",
       "dloss                0\n",
       "sinpkt               0\n",
       "dinpkt               0\n",
       "sjit                 0\n",
       "djit                 0\n",
       "swin                 0\n",
       "stcpb                0\n",
       "dtcpb                0\n",
       "dwin                 0\n",
       "tcprtt               0\n",
       "synack               0\n",
       "ackdat               0\n",
       "smean                0\n",
       "dmean                0\n",
       "trans_depth          0\n",
       "response_body_len    0\n",
       "ct_srv_src           0\n",
       "ct_state_ttl         0\n",
       "ct_dst_ltm           0\n",
       "ct_src_dport_ltm     0\n",
       "ct_dst_sport_ltm     0\n",
       "ct_dst_src_ltm       0\n",
       "is_ftp_login         0\n",
       "ct_ftp_cmd           0\n",
       "ct_flw_http_mthd     0\n",
       "ct_src_ltm           0\n",
       "ct_srv_dst           0\n",
       "is_sm_ips_ports      0\n",
       "attack_cat           0\n",
       "label                0\n",
       "dtype: int64"
      ]
     },
     "execution_count": 3,
     "metadata": {},
     "output_type": "execute_result"
    }
   ],
   "source": [
    "df.isnull().sum()"
   ]
  },
  {
   "cell_type": "code",
   "execution_count": 4,
   "id": "e987b7d8",
   "metadata": {},
   "outputs": [
    {
     "data": {
      "text/plain": [
       "(175341, 45)"
      ]
     },
     "execution_count": 4,
     "metadata": {},
     "output_type": "execute_result"
    }
   ],
   "source": [
    "df.shape"
   ]
  },
  {
   "cell_type": "code",
   "execution_count": 5,
   "id": "d81bd452",
   "metadata": {},
   "outputs": [
    {
     "data": {
      "text/plain": [
       "id                     int64\n",
       "dur                  float64\n",
       "proto                 object\n",
       "service               object\n",
       "state                 object\n",
       "spkts                  int64\n",
       "dpkts                  int64\n",
       "sbytes                 int64\n",
       "dbytes                 int64\n",
       "rate                 float64\n",
       "sttl                   int64\n",
       "dttl                   int64\n",
       "sload                float64\n",
       "dload                float64\n",
       "sloss                  int64\n",
       "dloss                  int64\n",
       "sinpkt               float64\n",
       "dinpkt               float64\n",
       "sjit                 float64\n",
       "djit                 float64\n",
       "swin                   int64\n",
       "stcpb                  int64\n",
       "dtcpb                  int64\n",
       "dwin                   int64\n",
       "tcprtt               float64\n",
       "synack               float64\n",
       "ackdat               float64\n",
       "smean                  int64\n",
       "dmean                  int64\n",
       "trans_depth            int64\n",
       "response_body_len      int64\n",
       "ct_srv_src             int64\n",
       "ct_state_ttl           int64\n",
       "ct_dst_ltm             int64\n",
       "ct_src_dport_ltm       int64\n",
       "ct_dst_sport_ltm       int64\n",
       "ct_dst_src_ltm         int64\n",
       "is_ftp_login           int64\n",
       "ct_ftp_cmd             int64\n",
       "ct_flw_http_mthd       int64\n",
       "ct_src_ltm             int64\n",
       "ct_srv_dst             int64\n",
       "is_sm_ips_ports        int64\n",
       "attack_cat            object\n",
       "label                  int64\n",
       "dtype: object"
      ]
     },
     "execution_count": 5,
     "metadata": {},
     "output_type": "execute_result"
    }
   ],
   "source": [
    "df.dtypes"
   ]
  },
  {
   "cell_type": "code",
   "execution_count": 6,
   "id": "28606af6",
   "metadata": {},
   "outputs": [
    {
     "data": {
      "text/plain": [
       "Index(['id', 'dur', 'proto', 'service', 'state', 'spkts', 'dpkts', 'sbytes',\n",
       "       'dbytes', 'rate', 'sttl', 'dttl', 'sload', 'dload', 'sloss', 'dloss',\n",
       "       'sinpkt', 'dinpkt', 'sjit', 'djit', 'swin', 'stcpb', 'dtcpb', 'dwin',\n",
       "       'tcprtt', 'synack', 'ackdat', 'smean', 'dmean', 'trans_depth',\n",
       "       'response_body_len', 'ct_srv_src', 'ct_state_ttl', 'ct_dst_ltm',\n",
       "       'ct_src_dport_ltm', 'ct_dst_sport_ltm', 'ct_dst_src_ltm',\n",
       "       'is_ftp_login', 'ct_ftp_cmd', 'ct_flw_http_mthd', 'ct_src_ltm',\n",
       "       'ct_srv_dst', 'is_sm_ips_ports', 'attack_cat', 'label'],\n",
       "      dtype='object')"
      ]
     },
     "execution_count": 6,
     "metadata": {},
     "output_type": "execute_result"
    }
   ],
   "source": [
    "df.columns"
   ]
  },
  {
   "cell_type": "code",
   "execution_count": 7,
   "id": "b03649a2",
   "metadata": {},
   "outputs": [],
   "source": [
    "train = df.replace('-', pd.NA).dropna()"
   ]
  },
  {
   "cell_type": "code",
   "execution_count": 8,
   "id": "a1aa3d3d",
   "metadata": {},
   "outputs": [
    {
     "data": {
      "text/plain": [
       "(81173, 45)"
      ]
     },
     "execution_count": 8,
     "metadata": {},
     "output_type": "execute_result"
    }
   ],
   "source": [
    "train.shape"
   ]
  },
  {
   "cell_type": "code",
   "execution_count": 9,
   "id": "9024c90a",
   "metadata": {},
   "outputs": [
    {
     "name": "stdout",
     "output_type": "stream",
     "text": [
      "3         tcp\n",
      "11        tcp\n",
      "15        udp\n",
      "17        tcp\n",
      "21        tcp\n",
      "         ... \n",
      "175335    udp\n",
      "175336    udp\n",
      "175338    udp\n",
      "175339    udp\n",
      "175340    udp\n",
      "Name: proto, Length: 81173, dtype: object\n"
     ]
    }
   ],
   "source": [
    "print(train['proto'])"
   ]
  },
  {
   "cell_type": "code",
   "execution_count": 10,
   "id": "75f6839c",
   "metadata": {},
   "outputs": [
    {
     "name": "stdout",
     "output_type": "stream",
     "text": [
      "proto\n",
      "udp    47435\n",
      "tcp    33738\n",
      "Name: count, dtype: int64\n"
     ]
    }
   ],
   "source": [
    "value_counts_result = train['proto'].value_counts()\n",
    "\n",
    "# Afficher le résultat complet, même s'il y a beaucoup de données\n",
    "with pd.option_context('display.max_rows', None, 'display.max_columns', None):\n",
    "    print(value_counts_result)"
   ]
  },
  {
   "cell_type": "code",
   "execution_count": 11,
   "id": "5c32fca9",
   "metadata": {},
   "outputs": [
    {
     "data": {
      "text/plain": [
       "attack_cat\n",
       "Generic           39496\n",
       "Normal            19488\n",
       "Exploits          16187\n",
       "DoS                1791\n",
       "Fuzzers            1731\n",
       "Reconnaissance     1703\n",
       "Analysis            564\n",
       "Worms               114\n",
       "Backdoor             99\n",
       "Name: count, dtype: int64"
      ]
     },
     "execution_count": 11,
     "metadata": {},
     "output_type": "execute_result"
    },
    {
     "data": {
      "image/png": "[encoded data removed]",
      "text/plain": [
       "<Figure size 640x480 with 1 Axes>"
      ]
     },
     "metadata": {},
     "output_type": "display_data"
    }
   ],
   "source": [
    "train[\"attack_cat\"].value_counts().plot.bar()\n",
    "train['attack_cat'].value_counts()"
   ]
  },
  {
   "cell_type": "code",
   "execution_count": 12,
   "id": "ad9ffaa0",
   "metadata": {},
   "outputs": [
    {
     "data": {
      "text/plain": [
       "([<matplotlib.patches.Wedge at 0x2e3070153a0>,\n",
       "  <matplotlib.patches.Wedge at 0x2e307020590>],\n",
       " [Text(-0.7532028705720235, -0.8016766403993968, 'Attaque'),\n",
       "  Text(0.7532028330428306, 0.801676675659367, 'Normal')],\n",
       " [Text(-0.41083792940292185, -0.43727816749058007, '76.0%'),\n",
       "  Text(0.41083790893245303, 0.437278186723291, '24.0%')])"
      ]
     },
     "execution_count": 12,
     "metadata": {},
     "output_type": "execute_result"
    },
    {
     "data": {
      "image/png": "[encoded data removed]",
      "text/plain": [
       "<Figure size 640x480 with 1 Axes>"
      ]
     },
     "metadata": {},
     "output_type": "display_data"
    }
   ],
   "source": [
    "# Définissez les étiquettes pour les valeurs 0 et 1\n",
    "labels = ['Attaque', 'Normal']\n",
    "value_counts = train[\"label\"].value_counts(normalize=True)\n",
    "# Créez le diagramme circulaire avec les étiquettes\n",
    "plt.pie(value_counts, labels=labels, autopct='%1.1f%%', startangle=90)"
   ]
  },
  {
   "cell_type": "code",
   "execution_count": 13,
   "id": "8f5ce9cb",
   "metadata": {},
   "outputs": [
    {
     "data": {
      "text/plain": [
       "state\n",
       "INT    39580\n",
       "FIN    33640\n",
       "CON     7711\n",
       "REQ      228\n",
       "RST       14\n",
       "Name: count, dtype: int64"
      ]
     },
     "execution_count": 13,
     "metadata": {},
     "output_type": "execute_result"
    },
    {
     "data": {
      "image/png": "[encoded data removed]",
      "text/plain": [
       "<Figure size 640x480 with 1 Axes>"
      ]
     },
     "metadata": {},
     "output_type": "display_data"
    }
   ],
   "source": [
    "train[\"state\"].value_counts().plot.bar()\n",
    "train['state'].value_counts()"
   ]
  },
  {
   "cell_type": "code",
   "execution_count": 14,
   "id": "85447891",
   "metadata": {},
   "outputs": [
    {
     "data": {
      "text/plain": [
       "service\n",
       "dns         47294\n",
       "http        18724\n",
       "smtp         5058\n",
       "ftp-data     3995\n",
       "ftp          3428\n",
       "ssh          1302\n",
       "pop3         1105\n",
       "dhcp           94\n",
       "snmp           80\n",
       "ssl            56\n",
       "irc            25\n",
       "radius         12\n",
       "Name: count, dtype: int64"
      ]
     },
     "execution_count": 14,
     "metadata": {},
     "output_type": "execute_result"
    },
    {
     "data": {
      "image/png": "[encoded data removed]",
      "text/plain": [
       "<Figure size 640x480 with 1 Axes>"
      ]
     },
     "metadata": {},
     "output_type": "display_data"
    }
   ],
   "source": [
    "train[\"service\"].value_counts().plot.bar()\n",
    "train['service'].value_counts()"
   ]
  },
  {
   "cell_type": "code",
   "execution_count": 15,
   "id": "47c0a2c3",
   "metadata": {},
   "outputs": [
    {
     "name": "stdout",
     "output_type": "stream",
     "text": [
      "Ensemble d'entraînement:\n",
      "La caractéristique 'proto' a 2 categories\n",
      "La caractéristique 'service' a 12 categories\n",
      "La caractéristique 'state' a 5 categories\n",
      "La caractéristique 'attack_cat' a 9 categories\n"
     ]
    }
   ],
   "source": [
    "# explorer les caractéristiques catégorielles\n",
    "print('Ensemble d\\'entraînement:')\n",
    "for col_name in train.columns:\n",
    "    if train[col_name].dtypes == 'object' :\n",
    "        unique_cat = len(train[col_name].unique())\n",
    "        print(\"La caractéristique '{col_name}' a {unique_cat} categories\".format(col_name=col_name, unique_cat=unique_cat))\n"
   ]
  },
  {
   "cell_type": "code",
   "execution_count": 16,
   "id": "3ee86c02",
   "metadata": {},
   "outputs": [],
   "source": [
    "train = train.drop(columns=['attack_cat'])"
   ]
  },
  {
   "cell_type": "code",
   "execution_count": 17,
   "id": "4974df5f",
   "metadata": {},
   "outputs": [
    {
     "name": "stdout",
     "output_type": "stream",
     "text": [
      "   proto service state\n",
      "3    tcp     ftp   FIN\n",
      "11   tcp    smtp   FIN\n",
      "15   udp    snmp   INT\n",
      "17   tcp    http   FIN\n",
      "21   tcp    http   FIN\n"
     ]
    }
   ],
   "source": [
    "from sklearn.preprocessing import LabelEncoder,OneHotEncoder\n",
    "categorical_columns=['proto', 'service', 'state']\n",
    "\n",
    "train_categorical_values = train[categorical_columns]\n",
    "print(train_categorical_values.head())"
   ]
  },
  {
   "cell_type": "code",
   "execution_count": 18,
   "id": "5dc4d58b",
   "metadata": {},
   "outputs": [
    {
     "name": "stdout",
     "output_type": "stream",
     "text": [
      "   proto service state\n",
      "3    tcp     ftp   FIN\n",
      "11   tcp    smtp   FIN\n",
      "15   udp    snmp   INT\n",
      "17   tcp    http   FIN\n",
      "21   tcp    http   FIN\n",
      "--------------------\n",
      "    proto  service  state\n",
      "3       0        2      1\n",
      "11      0        8      1\n",
      "15      1        9      2\n",
      "17      0        4      1\n",
      "21      0        4      1\n"
     ]
    }
   ],
   "source": [
    "train_enc=train_categorical_values.apply(LabelEncoder().fit_transform)\n",
    "\n",
    "print(train_categorical_values.head())\n",
    "print('--------------------')\n",
    "print(train_enc.head())"
   ]
  },
  {
   "cell_type": "code",
   "execution_count": 19,
   "id": "fdb1399c",
   "metadata": {},
   "outputs": [
    {
     "data": {
      "text/html": [
       "<div>\n",
       "<style scoped>\n",
       "    .dataframe tbody tr th:only-of-type {\n",
       "        vertical-align: middle;\n",
       "    }\n",
       "\n",
       "    .dataframe tbody tr th {\n",
       "        vertical-align: top;\n",
       "    }\n",
       "\n",
       "    .dataframe thead th {\n",
       "        text-align: right;\n",
       "    }\n",
       "</style>\n",
       "<table border=\"1\" class=\"dataframe\">\n",
       "  <thead>\n",
       "    <tr style=\"text-align: right;\">\n",
       "      <th></th>\n",
       "      <th>id</th>\n",
       "      <th>dur</th>\n",
       "      <th>proto</th>\n",
       "      <th>service</th>\n",
       "      <th>state</th>\n",
       "      <th>spkts</th>\n",
       "      <th>dpkts</th>\n",
       "      <th>sbytes</th>\n",
       "      <th>dbytes</th>\n",
       "      <th>rate</th>\n",
       "      <th>...</th>\n",
       "      <th>ct_src_dport_ltm</th>\n",
       "      <th>ct_dst_sport_ltm</th>\n",
       "      <th>ct_dst_src_ltm</th>\n",
       "      <th>is_ftp_login</th>\n",
       "      <th>ct_ftp_cmd</th>\n",
       "      <th>ct_flw_http_mthd</th>\n",
       "      <th>ct_src_ltm</th>\n",
       "      <th>ct_srv_dst</th>\n",
       "      <th>is_sm_ips_ports</th>\n",
       "      <th>label</th>\n",
       "    </tr>\n",
       "  </thead>\n",
       "  <tbody>\n",
       "    <tr>\n",
       "      <th>3</th>\n",
       "      <td>4</td>\n",
       "      <td>1.681642</td>\n",
       "      <td>0</td>\n",
       "      <td>2</td>\n",
       "      <td>1</td>\n",
       "      <td>12</td>\n",
       "      <td>12</td>\n",
       "      <td>628</td>\n",
       "      <td>770</td>\n",
       "      <td>13.677108</td>\n",
       "      <td>...</td>\n",
       "      <td>1</td>\n",
       "      <td>1</td>\n",
       "      <td>3</td>\n",
       "      <td>1</td>\n",
       "      <td>1</td>\n",
       "      <td>0</td>\n",
       "      <td>2</td>\n",
       "      <td>1</td>\n",
       "      <td>0</td>\n",
       "      <td>0</td>\n",
       "    </tr>\n",
       "    <tr>\n",
       "      <th>11</th>\n",
       "      <td>12</td>\n",
       "      <td>2.093085</td>\n",
       "      <td>0</td>\n",
       "      <td>8</td>\n",
       "      <td>1</td>\n",
       "      <td>62</td>\n",
       "      <td>28</td>\n",
       "      <td>56329</td>\n",
       "      <td>2212</td>\n",
       "      <td>42.520967</td>\n",
       "      <td>...</td>\n",
       "      <td>1</td>\n",
       "      <td>1</td>\n",
       "      <td>2</td>\n",
       "      <td>0</td>\n",
       "      <td>0</td>\n",
       "      <td>0</td>\n",
       "      <td>1</td>\n",
       "      <td>1</td>\n",
       "      <td>0</td>\n",
       "      <td>0</td>\n",
       "    </tr>\n",
       "    <tr>\n",
       "      <th>15</th>\n",
       "      <td>16</td>\n",
       "      <td>0.000002</td>\n",
       "      <td>1</td>\n",
       "      <td>9</td>\n",
       "      <td>2</td>\n",
       "      <td>2</td>\n",
       "      <td>0</td>\n",
       "      <td>138</td>\n",
       "      <td>0</td>\n",
       "      <td>500000.001300</td>\n",
       "      <td>...</td>\n",
       "      <td>1</td>\n",
       "      <td>1</td>\n",
       "      <td>4</td>\n",
       "      <td>0</td>\n",
       "      <td>0</td>\n",
       "      <td>0</td>\n",
       "      <td>2</td>\n",
       "      <td>1</td>\n",
       "      <td>0</td>\n",
       "      <td>0</td>\n",
       "    </tr>\n",
       "    <tr>\n",
       "      <th>17</th>\n",
       "      <td>18</td>\n",
       "      <td>0.393556</td>\n",
       "      <td>0</td>\n",
       "      <td>4</td>\n",
       "      <td>1</td>\n",
       "      <td>10</td>\n",
       "      <td>8</td>\n",
       "      <td>860</td>\n",
       "      <td>1096</td>\n",
       "      <td>43.195886</td>\n",
       "      <td>...</td>\n",
       "      <td>1</td>\n",
       "      <td>1</td>\n",
       "      <td>2</td>\n",
       "      <td>0</td>\n",
       "      <td>0</td>\n",
       "      <td>1</td>\n",
       "      <td>1</td>\n",
       "      <td>3</td>\n",
       "      <td>0</td>\n",
       "      <td>0</td>\n",
       "    </tr>\n",
       "    <tr>\n",
       "      <th>21</th>\n",
       "      <td>22</td>\n",
       "      <td>0.338017</td>\n",
       "      <td>0</td>\n",
       "      <td>4</td>\n",
       "      <td>1</td>\n",
       "      <td>10</td>\n",
       "      <td>6</td>\n",
       "      <td>998</td>\n",
       "      <td>268</td>\n",
       "      <td>44.376468</td>\n",
       "      <td>...</td>\n",
       "      <td>1</td>\n",
       "      <td>1</td>\n",
       "      <td>1</td>\n",
       "      <td>0</td>\n",
       "      <td>0</td>\n",
       "      <td>1</td>\n",
       "      <td>2</td>\n",
       "      <td>3</td>\n",
       "      <td>0</td>\n",
       "      <td>0</td>\n",
       "    </tr>\n",
       "  </tbody>\n",
       "</table>\n",
       "<p>5 rows × 44 columns</p>\n",
       "</div>"
      ],
      "text/plain": [
       "    id       dur  proto  service  state  spkts  dpkts  sbytes  dbytes  \\\n",
       "3    4  1.681642      0        2      1     12     12     628     770   \n",
       "11  12  2.093085      0        8      1     62     28   56329    2212   \n",
       "15  16  0.000002      1        9      2      2      0     138       0   \n",
       "17  18  0.393556      0        4      1     10      8     860    1096   \n",
       "21  22  0.338017      0        4      1     10      6     998     268   \n",
       "\n",
       "             rate  ...  ct_src_dport_ltm  ct_dst_sport_ltm  ct_dst_src_ltm  \\\n",
       "3       13.677108  ...                 1                 1               3   \n",
       "11      42.520967  ...                 1                 1               2   \n",
       "15  500000.001300  ...                 1                 1               4   \n",
       "17      43.195886  ...                 1                 1               2   \n",
       "21      44.376468  ...                 1                 1               1   \n",
       "\n",
       "    is_ftp_login  ct_ftp_cmd  ct_flw_http_mthd  ct_src_ltm  ct_srv_dst  \\\n",
       "3              1           1                 0           2           1   \n",
       "11             0           0                 0           1           1   \n",
       "15             0           0                 0           2           1   \n",
       "17             0           0                 1           1           3   \n",
       "21             0           0                 1           2           3   \n",
       "\n",
       "    is_sm_ips_ports  label  \n",
       "3                 0      0  \n",
       "11                0      0  \n",
       "15                0      0  \n",
       "17                0      0  \n",
       "21                0      0  \n",
       "\n",
       "[5 rows x 44 columns]"
      ]
     },
     "execution_count": 19,
     "metadata": {},
     "output_type": "execute_result"
    }
   ],
   "source": [
    "# Colonnes à remplacer\n",
    "colonnes_a_remplacer = ['proto', 'service', 'state']\n",
    "# Remplacer les valeurs dans data1 par celles de data2\n",
    "train[colonnes_a_remplacer] = train_enc[colonnes_a_remplacer]\n",
    "\n",
    "train.head()"
   ]
  },
  {
   "cell_type": "code",
   "execution_count": 20,
   "id": "12a9d4a4",
   "metadata": {},
   "outputs": [
    {
     "data": {
      "text/plain": [
       "array([[-1.92978879,  0.17467783, -1.18574086, ..., -0.92730308,\n",
       "         0.        , -1.77912372],\n",
       "       [-1.92964169,  0.26608059, -1.18574086, ..., -0.92730308,\n",
       "         0.        , -1.77912372],\n",
       "       [-1.92956813, -0.19890138,  0.84335459, ..., -0.92730308,\n",
       "         0.        , -1.77912372],\n",
       "       ...,\n",
       "       [ 1.29427751, -0.19889983,  0.84335459, ..., -0.11028153,\n",
       "         0.        ,  0.56207446],\n",
       "       [ 1.2942959 , -0.19889983,  0.84335459, ...,  1.22666284,\n",
       "         0.        ,  0.56207446],\n",
       "       [ 1.29431429, -0.19889983,  0.84335459, ...,  1.22666284,\n",
       "         0.        ,  0.56207446]])"
      ]
     },
     "execution_count": 20,
     "metadata": {},
     "output_type": "execute_result"
    }
   ],
   "source": [
    "from sklearn.preprocessing import StandardScaler\n",
    "Scaler=StandardScaler().fit(train)\n",
    "Scaler.transform(train)"
   ]
  },
  {
   "cell_type": "code",
   "execution_count": 21,
   "id": "d1563837",
   "metadata": {},
   "outputs": [
    {
     "data": {
      "text/plain": [
       "array([[2.62451740e-09, 1.10337467e-09, 0.00000000e+00, ...,\n",
       "        6.56129351e-10, 0.00000000e+00, 0.00000000e+00],\n",
       "       [5.94785320e-09, 1.03744686e-09, 0.00000000e+00, ...,\n",
       "        4.95654434e-10, 0.00000000e+00, 0.00000000e+00],\n",
       "       [5.79709194e-08, 7.24636492e-15, 3.62318246e-09, ...,\n",
       "        3.62318246e-09, 0.00000000e+00, 0.00000000e+00],\n",
       "       ...,\n",
       "       [3.46060930e-03, 1.77630098e-13, 1.97366775e-08, ...,\n",
       "        2.36840130e-07, 0.00000000e+00, 1.97366775e-08],\n",
       "       [3.46062903e-03, 1.77630098e-13, 1.97366775e-08, ...,\n",
       "        5.92100325e-07, 0.00000000e+00, 1.97366775e-08],\n",
       "       [3.46064877e-03, 1.77630097e-13, 1.97366775e-08, ...,\n",
       "        5.92100325e-07, 0.00000000e+00, 1.97366775e-08]])"
      ]
     },
     "execution_count": 21,
     "metadata": {},
     "output_type": "execute_result"
    }
   ],
   "source": [
    "from sklearn.preprocessing import Normalizer\n",
    "Scaler=Normalizer().fit(train)\n",
    "Scaler.transform(train)"
   ]
  },
  {
   "cell_type": "code",
   "execution_count": 22,
   "id": "761a71b7",
   "metadata": {},
   "outputs": [
    {
     "data": {
      "text/plain": [
       "array([[0.00000000e+00, 2.80277961e-02, 0.00000000e+00, ...,\n",
       "        0.00000000e+00, 0.00000000e+00, 0.00000000e+00],\n",
       "       [4.56264223e-05, 3.48852886e-02, 0.00000000e+00, ...,\n",
       "        0.00000000e+00, 0.00000000e+00, 0.00000000e+00],\n",
       "       [6.84396334e-05, 1.66669319e-08, 1.00000000e+00, ...,\n",
       "        0.00000000e+00, 0.00000000e+00, 0.00000000e+00],\n",
       "       ...,\n",
       "       [9.99988593e-01, 1.33335456e-07, 1.00000000e+00, ...,\n",
       "        2.15686275e-01, 0.00000000e+00, 1.00000000e+00],\n",
       "       [9.99994297e-01, 1.33335456e-07, 1.00000000e+00, ...,\n",
       "        5.68627451e-01, 0.00000000e+00, 1.00000000e+00],\n",
       "       [1.00000000e+00, 1.33335456e-07, 1.00000000e+00, ...,\n",
       "        5.68627451e-01, 0.00000000e+00, 1.00000000e+00]])"
      ]
     },
     "execution_count": 22,
     "metadata": {},
     "output_type": "execute_result"
    }
   ],
   "source": [
    "from sklearn.preprocessing import MinMaxScaler\n",
    "Scaler=MinMaxScaler(feature_range=(0,1))\n",
    "Scaler.fit_transform(train)"
   ]
  },
  {
   "cell_type": "code",
   "execution_count": 23,
   "id": "460480b2",
   "metadata": {},
   "outputs": [],
   "source": [
    "# Liste des colonnes importantes pour la détection d'attaques\n",
    "colonnes_importants = ['dur','proto', 'service', 'state', 'rate', 'sttl', 'dload', 'swin', 'dwin', 'ackdat', 'dmean', 'ct_srv_src', 'ct_state_ttl','ct_dst_ltm', 'ct_src_dport_ltm',\n",
    "                       'ct_dst_sport_ltm', 'ct_dst_src_ltm', 'ct_src_ltm', 'ct_srv_dst', 'label']\n",
    "# Supprimer toutes les colonnes sauf celles qui sont importantes\n",
    "colonnes_a_supprimer = [colonne for colonne in train.columns if colonne not in colonnes_importants]\n",
    "train = train.drop(columns=colonnes_a_supprimer)"
   ]
  },
  {
   "cell_type": "code",
   "execution_count": 24,
   "id": "0497f152",
   "metadata": {},
   "outputs": [
    {
     "data": {
      "text/html": [
       "<div>\n",
       "<style scoped>\n",
       "    .dataframe tbody tr th:only-of-type {\n",
       "        vertical-align: middle;\n",
       "    }\n",
       "\n",
       "    .dataframe tbody tr th {\n",
       "        vertical-align: top;\n",
       "    }\n",
       "\n",
       "    .dataframe thead th {\n",
       "        text-align: right;\n",
       "    }\n",
       "</style>\n",
       "<table border=\"1\" class=\"dataframe\">\n",
       "  <thead>\n",
       "    <tr style=\"text-align: right;\">\n",
       "      <th></th>\n",
       "      <th>dur</th>\n",
       "      <th>proto</th>\n",
       "      <th>service</th>\n",
       "      <th>state</th>\n",
       "      <th>rate</th>\n",
       "      <th>sttl</th>\n",
       "      <th>dload</th>\n",
       "      <th>swin</th>\n",
       "      <th>dwin</th>\n",
       "      <th>ackdat</th>\n",
       "      <th>dmean</th>\n",
       "      <th>ct_srv_src</th>\n",
       "      <th>ct_state_ttl</th>\n",
       "      <th>ct_dst_ltm</th>\n",
       "      <th>ct_src_dport_ltm</th>\n",
       "      <th>ct_dst_sport_ltm</th>\n",
       "      <th>ct_dst_src_ltm</th>\n",
       "      <th>ct_src_ltm</th>\n",
       "      <th>ct_srv_dst</th>\n",
       "      <th>label</th>\n",
       "    </tr>\n",
       "  </thead>\n",
       "  <tbody>\n",
       "    <tr>\n",
       "      <th>3</th>\n",
       "      <td>1.681642</td>\n",
       "      <td>0</td>\n",
       "      <td>2</td>\n",
       "      <td>1</td>\n",
       "      <td>13.677108</td>\n",
       "      <td>62</td>\n",
       "      <td>3358.622070</td>\n",
       "      <td>255</td>\n",
       "      <td>255</td>\n",
       "      <td>0.000000</td>\n",
       "      <td>64</td>\n",
       "      <td>1</td>\n",
       "      <td>1</td>\n",
       "      <td>2</td>\n",
       "      <td>1</td>\n",
       "      <td>1</td>\n",
       "      <td>3</td>\n",
       "      <td>2</td>\n",
       "      <td>1</td>\n",
       "      <td>0</td>\n",
       "    </tr>\n",
       "    <tr>\n",
       "      <th>11</th>\n",
       "      <td>2.093085</td>\n",
       "      <td>0</td>\n",
       "      <td>8</td>\n",
       "      <td>1</td>\n",
       "      <td>42.520967</td>\n",
       "      <td>62</td>\n",
       "      <td>8152.559082</td>\n",
       "      <td>255</td>\n",
       "      <td>255</td>\n",
       "      <td>0.078288</td>\n",
       "      <td>79</td>\n",
       "      <td>2</td>\n",
       "      <td>1</td>\n",
       "      <td>1</td>\n",
       "      <td>1</td>\n",
       "      <td>1</td>\n",
       "      <td>2</td>\n",
       "      <td>1</td>\n",
       "      <td>1</td>\n",
       "      <td>0</td>\n",
       "    </tr>\n",
       "    <tr>\n",
       "      <th>15</th>\n",
       "      <td>0.000002</td>\n",
       "      <td>1</td>\n",
       "      <td>9</td>\n",
       "      <td>2</td>\n",
       "      <td>500000.001300</td>\n",
       "      <td>254</td>\n",
       "      <td>0.000000</td>\n",
       "      <td>0</td>\n",
       "      <td>0</td>\n",
       "      <td>0.000000</td>\n",
       "      <td>0</td>\n",
       "      <td>1</td>\n",
       "      <td>2</td>\n",
       "      <td>1</td>\n",
       "      <td>1</td>\n",
       "      <td>1</td>\n",
       "      <td>4</td>\n",
       "      <td>2</td>\n",
       "      <td>1</td>\n",
       "      <td>0</td>\n",
       "    </tr>\n",
       "    <tr>\n",
       "      <th>17</th>\n",
       "      <td>0.393556</td>\n",
       "      <td>0</td>\n",
       "      <td>4</td>\n",
       "      <td>1</td>\n",
       "      <td>43.195886</td>\n",
       "      <td>62</td>\n",
       "      <td>19494.048830</td>\n",
       "      <td>255</td>\n",
       "      <td>255</td>\n",
       "      <td>0.061112</td>\n",
       "      <td>137</td>\n",
       "      <td>3</td>\n",
       "      <td>1</td>\n",
       "      <td>1</td>\n",
       "      <td>1</td>\n",
       "      <td>1</td>\n",
       "      <td>2</td>\n",
       "      <td>1</td>\n",
       "      <td>3</td>\n",
       "      <td>0</td>\n",
       "    </tr>\n",
       "    <tr>\n",
       "      <th>21</th>\n",
       "      <td>0.338017</td>\n",
       "      <td>0</td>\n",
       "      <td>4</td>\n",
       "      <td>1</td>\n",
       "      <td>44.376468</td>\n",
       "      <td>254</td>\n",
       "      <td>5301.508789</td>\n",
       "      <td>255</td>\n",
       "      <td>255</td>\n",
       "      <td>0.099324</td>\n",
       "      <td>45</td>\n",
       "      <td>6</td>\n",
       "      <td>1</td>\n",
       "      <td>1</td>\n",
       "      <td>1</td>\n",
       "      <td>1</td>\n",
       "      <td>1</td>\n",
       "      <td>2</td>\n",
       "      <td>3</td>\n",
       "      <td>0</td>\n",
       "    </tr>\n",
       "    <tr>\n",
       "      <th>...</th>\n",
       "      <td>...</td>\n",
       "      <td>...</td>\n",
       "      <td>...</td>\n",
       "      <td>...</td>\n",
       "      <td>...</td>\n",
       "      <td>...</td>\n",
       "      <td>...</td>\n",
       "      <td>...</td>\n",
       "      <td>...</td>\n",
       "      <td>...</td>\n",
       "      <td>...</td>\n",
       "      <td>...</td>\n",
       "      <td>...</td>\n",
       "      <td>...</td>\n",
       "      <td>...</td>\n",
       "      <td>...</td>\n",
       "      <td>...</td>\n",
       "      <td>...</td>\n",
       "      <td>...</td>\n",
       "      <td>...</td>\n",
       "    </tr>\n",
       "    <tr>\n",
       "      <th>175335</th>\n",
       "      <td>0.000006</td>\n",
       "      <td>1</td>\n",
       "      <td>1</td>\n",
       "      <td>2</td>\n",
       "      <td>166666.660800</td>\n",
       "      <td>254</td>\n",
       "      <td>0.000000</td>\n",
       "      <td>0</td>\n",
       "      <td>0</td>\n",
       "      <td>0.000000</td>\n",
       "      <td>0</td>\n",
       "      <td>45</td>\n",
       "      <td>2</td>\n",
       "      <td>33</td>\n",
       "      <td>33</td>\n",
       "      <td>17</td>\n",
       "      <td>45</td>\n",
       "      <td>33</td>\n",
       "      <td>45</td>\n",
       "      <td>1</td>\n",
       "    </tr>\n",
       "    <tr>\n",
       "      <th>175336</th>\n",
       "      <td>0.000009</td>\n",
       "      <td>1</td>\n",
       "      <td>1</td>\n",
       "      <td>2</td>\n",
       "      <td>111111.107200</td>\n",
       "      <td>254</td>\n",
       "      <td>0.000000</td>\n",
       "      <td>0</td>\n",
       "      <td>0</td>\n",
       "      <td>0.000000</td>\n",
       "      <td>0</td>\n",
       "      <td>24</td>\n",
       "      <td>2</td>\n",
       "      <td>24</td>\n",
       "      <td>24</td>\n",
       "      <td>13</td>\n",
       "      <td>24</td>\n",
       "      <td>24</td>\n",
       "      <td>24</td>\n",
       "      <td>1</td>\n",
       "    </tr>\n",
       "    <tr>\n",
       "      <th>175338</th>\n",
       "      <td>0.000009</td>\n",
       "      <td>1</td>\n",
       "      <td>1</td>\n",
       "      <td>2</td>\n",
       "      <td>111111.107200</td>\n",
       "      <td>254</td>\n",
       "      <td>0.000000</td>\n",
       "      <td>0</td>\n",
       "      <td>0</td>\n",
       "      <td>0.000000</td>\n",
       "      <td>0</td>\n",
       "      <td>12</td>\n",
       "      <td>2</td>\n",
       "      <td>3</td>\n",
       "      <td>3</td>\n",
       "      <td>3</td>\n",
       "      <td>13</td>\n",
       "      <td>3</td>\n",
       "      <td>12</td>\n",
       "      <td>1</td>\n",
       "    </tr>\n",
       "    <tr>\n",
       "      <th>175339</th>\n",
       "      <td>0.000009</td>\n",
       "      <td>1</td>\n",
       "      <td>1</td>\n",
       "      <td>2</td>\n",
       "      <td>111111.107200</td>\n",
       "      <td>254</td>\n",
       "      <td>0.000000</td>\n",
       "      <td>0</td>\n",
       "      <td>0</td>\n",
       "      <td>0.000000</td>\n",
       "      <td>0</td>\n",
       "      <td>30</td>\n",
       "      <td>2</td>\n",
       "      <td>30</td>\n",
       "      <td>30</td>\n",
       "      <td>14</td>\n",
       "      <td>30</td>\n",
       "      <td>30</td>\n",
       "      <td>30</td>\n",
       "      <td>1</td>\n",
       "    </tr>\n",
       "    <tr>\n",
       "      <th>175340</th>\n",
       "      <td>0.000009</td>\n",
       "      <td>1</td>\n",
       "      <td>1</td>\n",
       "      <td>2</td>\n",
       "      <td>111111.107200</td>\n",
       "      <td>254</td>\n",
       "      <td>0.000000</td>\n",
       "      <td>0</td>\n",
       "      <td>0</td>\n",
       "      <td>0.000000</td>\n",
       "      <td>0</td>\n",
       "      <td>30</td>\n",
       "      <td>2</td>\n",
       "      <td>30</td>\n",
       "      <td>30</td>\n",
       "      <td>16</td>\n",
       "      <td>30</td>\n",
       "      <td>30</td>\n",
       "      <td>30</td>\n",
       "      <td>1</td>\n",
       "    </tr>\n",
       "  </tbody>\n",
       "</table>\n",
       "<p>81173 rows × 20 columns</p>\n",
       "</div>"
      ],
      "text/plain": [
       "             dur  proto  service  state           rate  sttl         dload  \\\n",
       "3       1.681642      0        2      1      13.677108    62   3358.622070   \n",
       "11      2.093085      0        8      1      42.520967    62   8152.559082   \n",
       "15      0.000002      1        9      2  500000.001300   254      0.000000   \n",
       "17      0.393556      0        4      1      43.195886    62  19494.048830   \n",
       "21      0.338017      0        4      1      44.376468   254   5301.508789   \n",
       "...          ...    ...      ...    ...            ...   ...           ...   \n",
       "175335  0.000006      1        1      2  166666.660800   254      0.000000   \n",
       "175336  0.000009      1        1      2  111111.107200   254      0.000000   \n",
       "175338  0.000009      1        1      2  111111.107200   254      0.000000   \n",
       "175339  0.000009      1        1      2  111111.107200   254      0.000000   \n",
       "175340  0.000009      1        1      2  111111.107200   254      0.000000   \n",
       "\n",
       "        swin  dwin    ackdat  dmean  ct_srv_src  ct_state_ttl  ct_dst_ltm  \\\n",
       "3        255   255  0.000000     64           1             1           2   \n",
       "11       255   255  0.078288     79           2             1           1   \n",
       "15         0     0  0.000000      0           1             2           1   \n",
       "17       255   255  0.061112    137           3             1           1   \n",
       "21       255   255  0.099324     45           6             1           1   \n",
       "...      ...   ...       ...    ...         ...           ...         ...   \n",
       "175335     0     0  0.000000      0          45             2          33   \n",
       "175336     0     0  0.000000      0          24             2          24   \n",
       "175338     0     0  0.000000      0          12             2           3   \n",
       "175339     0     0  0.000000      0          30             2          30   \n",
       "175340     0     0  0.000000      0          30             2          30   \n",
       "\n",
       "        ct_src_dport_ltm  ct_dst_sport_ltm  ct_dst_src_ltm  ct_src_ltm  \\\n",
       "3                      1                 1               3           2   \n",
       "11                     1                 1               2           1   \n",
       "15                     1                 1               4           2   \n",
       "17                     1                 1               2           1   \n",
       "21                     1                 1               1           2   \n",
       "...                  ...               ...             ...         ...   \n",
       "175335                33                17              45          33   \n",
       "175336                24                13              24          24   \n",
       "175338                 3                 3              13           3   \n",
       "175339                30                14              30          30   \n",
       "175340                30                16              30          30   \n",
       "\n",
       "        ct_srv_dst  label  \n",
       "3                1      0  \n",
       "11               1      0  \n",
       "15               1      0  \n",
       "17               3      0  \n",
       "21               3      0  \n",
       "...            ...    ...  \n",
       "175335          45      1  \n",
       "175336          24      1  \n",
       "175338          12      1  \n",
       "175339          30      1  \n",
       "175340          30      1  \n",
       "\n",
       "[81173 rows x 20 columns]"
      ]
     },
     "execution_count": 24,
     "metadata": {},
     "output_type": "execute_result"
    }
   ],
   "source": [
    "train"
   ]
  },
  {
   "cell_type": "code",
   "execution_count": 25,
   "id": "d6702d85",
   "metadata": {},
   "outputs": [
    {
     "data": {
      "text/plain": [
       "state\n",
       "2    39580\n",
       "1    33640\n",
       "0     7711\n",
       "3      228\n",
       "4       14\n",
       "Name: count, dtype: int64"
      ]
     },
     "execution_count": 25,
     "metadata": {},
     "output_type": "execute_result"
    },
    {
     "data": {
      "image/png": "[encoded data removed]",
      "text/plain": [
       "<Figure size 640x480 with 1 Axes>"
      ]
     },
     "metadata": {},
     "output_type": "display_data"
    }
   ],
   "source": [
    "train[\"state\"].value_counts().plot.bar()\n",
    "train['state'].value_counts()"
   ]
  },
  {
   "cell_type": "code",
   "execution_count": 26,
   "id": "4725dac9",
   "metadata": {},
   "outputs": [
    {
     "name": "stdout",
     "output_type": "stream",
     "text": [
      "Forme de X_train : (56821, 19)\n",
      "Forme de X_test : (24352, 19)\n",
      "Forme de y_train : (56821,)\n",
      "Forme de y_test : (24352,)\n"
     ]
    }
   ],
   "source": [
    "from sklearn.model_selection import train_test_split\n",
    "# Diviser les données en ensembles d'entraînement et de test\n",
    "X = train.drop(columns=['label'])  # Caractéristiques\n",
    "y = train['label']  # Variable cible\n",
    "# Fractionnement des données en train et ensemble de test \n",
    "(X_train, X_test, y_train, y_test) = train_test_split(X, y, test_size=0.3, random_state=25)\n",
    "# Imprimer les formes des nouveaux ensembles\n",
    "print(\"Forme de X_train :\", X_train.shape)\n",
    "print(\"Forme de X_test :\", X_test.shape)\n",
    "print(\"Forme de y_train :\", y_train.shape)\n",
    "print(\"Forme de y_test :\", y_test.shape)"
   ]
  },
  {
   "cell_type": "markdown",
   "id": "75be28ee",
   "metadata": {},
   "source": [
    "modele XGBCLASSIFIER"
   ]
  },
  {
   "cell_type": "code",
   "execution_count": 27,
   "id": "bd7ae82a",
   "metadata": {},
   "outputs": [
    {
     "name": "stdout",
     "output_type": "stream",
     "text": [
      "Model Accuracy: 0.9854632063074902\n",
      "Classification Report:\n",
      "               precision    recall  f1-score   support\n",
      "\n",
      "           0       0.98      0.96      0.97      5876\n",
      "           1       0.99      0.99      0.99     18476\n",
      "\n",
      "    accuracy                           0.99     24352\n",
      "   macro avg       0.98      0.98      0.98     24352\n",
      "weighted avg       0.99      0.99      0.99     24352\n",
      "\n",
      "\n",
      "Recall  0.9925308508335138\n",
      "F1- Score   0.9904401836348906\n",
      "\n",
      "Temps d'exécution Détection de primitives : 1.4616024494171143 secondes\n"
     ]
    }
   ],
   "source": [
    "from xgboost import XGBClassifier\n",
    "from sklearn.metrics import accuracy_score, classification_report,confusion_matrix\n",
    "from sklearn.metrics import roc_curve\n",
    "from sklearn.metrics import roc_auc_score\n",
    "# Avant d'exécuter le code, on mémorise le temps de départ\n",
    "start = time.time()\n",
    "# Début du chronomètre\n",
    "start_time = time.time()\n",
    "\n",
    "# Create and train the XGBClassifier\n",
    "xgb_model = XGBClassifier()\n",
    "xgb_model.fit(X_train, y_train)\n",
    "# Predict on the test set\n",
    "xgb_pred = xgb_model.predict(X_test)\n",
    "\n",
    "# Evaluate the model\n",
    "accuracy = accuracy_score(y_test, xgb_pred)\n",
    "report = classification_report(y_test, xgb_pred)\n",
    "conf_matrix = confusion_matrix(y_test, xgb_pred)\n",
    "print(\"Model Accuracy:\", accuracy)\n",
    "print(\"Classification Report:\\n\", report)\n",
    "print()\n",
    "recall1 = float(conf_matrix[1, 1]/(conf_matrix[1,1]+conf_matrix[1,0]))\n",
    "prec1  = float(conf_matrix[1, 1]/(conf_matrix[1,1]+conf_matrix[0,1]))\n",
    "f_score1 = (2*recall1*prec1)/(recall1 + prec1)\n",
    "print('Recall ', recall1)\n",
    "print('F1- Score  ', f_score1)\n",
    "print()\n",
    "# Fin du chronomètre\n",
    "end_time = time.time()\n",
    "# Calcul du temps d'exécution\n",
    "execution_time = end_time - start_time\n",
    "print(f\"Temps d'exécution Détection de primitives : {execution_time} secondes\")"
   ]
  },
  {
   "cell_type": "code",
   "execution_count": 28,
   "id": "38ef3757",
   "metadata": {},
   "outputs": [
    {
     "name": "stdout",
     "output_type": "stream",
     "text": [
      "[[ 5660   216]\n",
      " [  138 18338]]\n"
     ]
    },
    {
     "data": {
      "image/png": "[encoded data removed]",
      "text/plain": [
       "<Figure size 800x600 with 1 Axes>"
      ]
     },
     "metadata": {},
     "output_type": "display_data"
    }
   ],
   "source": [
    "# Calculer la matrice de confusion\n",
    "conf_matrix = confusion_matrix(y_test, xgb_pred)\n",
    "print(conf_matrix)\n",
    "# Définir l'ordre des classes\n",
    "class_names = ['Normal', 'Attaques']\n",
    "\n",
    "# Afficher la matrice de confusion sous forme de heatmap avec annotations\n",
    "plt.figure(figsize=(8, 6))\n",
    "sns.heatmap(conf_matrix, annot=True, fmt='d', cmap='Blues', cbar=False,\n",
    "            xticklabels=class_names, yticklabels=class_names)\n",
    "plt.title('Matrice de Confusion - XGBClassifier')\n",
    "plt.show()"
   ]
  },
  {
   "cell_type": "code",
   "execution_count": 29,
   "id": "17260e91",
   "metadata": {},
   "outputs": [
    {
     "data": {
      "image/png": "[encoded data removed]",
      "text/plain": [
       "<Figure size 640x480 with 1 Axes>"
      ]
     },
     "metadata": {},
     "output_type": "display_data"
    },
    {
     "name": "stdout",
     "output_type": "stream",
     "text": [
      "Area Under the Curve  0.9778855751784996\n"
     ]
    }
   ],
   "source": [
    "# Calculate AUC\n",
    "SVM_auc = roc_auc_score(y_test, xgb_pred)\n",
    "\n",
    "# Generate ROC curve\n",
    "fpr, tpr, _ = roc_curve(y_test, xgb_pred)\n",
    "plt.plot(fpr, tpr, label=' Classifier (area = %0.2f)' % SVM_auc)\n",
    "plt.plot([0, 1], [0, 1],'r--')\n",
    "plt.xlim([0.0, 1.0])\n",
    "plt.ylim([0.0, 1.0])\n",
    "plt.xlabel('False Positive Rate')\n",
    "plt.ylabel('True Positive Rate')\n",
    "plt.show()\n",
    "print('Area Under the Curve ', SVM_auc)"
   ]
  },
  {
   "cell_type": "code",
   "execution_count": 30,
   "id": "006ecbc5",
   "metadata": {},
   "outputs": [],
   "source": [
    "import pickle"
   ]
  },
  {
   "cell_type": "code",
   "execution_count": 31,
   "id": "f96a3bd8",
   "metadata": {},
   "outputs": [],
   "source": [
    "with open('XGBClassifier.pkl', 'wb') as file:\n",
    "    # Utiliser pickle pour sérialiser et sauvegarder le modèle dans le fichier\n",
    "    pickle.dump(xgb_model, file)"
   ]
  },
  {
   "cell_type": "markdown",
   "id": "86e7af4a",
   "metadata": {},
   "source": [
    "modèle Régression logistique"
   ]
  },
  {
   "cell_type": "code",
   "execution_count": 32,
   "id": "7541bba5",
   "metadata": {},
   "outputs": [
    {
     "name": "stdout",
     "output_type": "stream",
     "text": [
      "Logistic Regression Accuracy: 0.93\n",
      "Logistic Regression Classification Report:\n",
      "              precision    recall  f1-score   support\n",
      "\n",
      "           0       0.95      0.74      0.83      5876\n",
      "           1       0.92      0.99      0.95     18476\n",
      "\n",
      "    accuracy                           0.93     24352\n",
      "   macro avg       0.94      0.86      0.89     24352\n",
      "weighted avg       0.93      0.93      0.92     24352\n",
      "\n",
      "\n",
      "Recall  0.9880385364797575\n",
      "F1- Score   0.9539860468762249\n",
      "\n",
      "Temps d'exécution Détection de primitives : 2.2852578163146973 secondes\n"
     ]
    },
    {
     "name": "stderr",
     "output_type": "stream",
     "text": [
      "c:\\Python312\\Lib\\site-packages\\sklearn\\linear_model\\_logistic.py:469: ConvergenceWarning: lbfgs failed to converge (status=1):\n",
      "STOP: TOTAL NO. of ITERATIONS REACHED LIMIT.\n",
      "\n",
      "Increase the number of iterations (max_iter) or scale the data as shown in:\n",
      "    https://scikit-learn.org/stable/modules/preprocessing.html\n",
      "Please also refer to the documentation for alternative solver options:\n",
      "    https://scikit-learn.org/stable/modules/linear_model.html#logistic-regression\n",
      "  n_iter_i = _check_optimize_result(\n"
     ]
    }
   ],
   "source": [
    "from sklearn.linear_model import LogisticRegression\n",
    "# Avant d'exécuter le code, on mémorise le temps de départ\n",
    "start = time.time()\n",
    "# Début du chronomètre\n",
    "start_time = time.time()\n",
    "\n",
    "logistic_model = LogisticRegression()\n",
    "logistic_model.fit(X_train, y_train)\n",
    "logistic_predictions = logistic_model.predict(X_test)\n",
    "conf_matrix = confusion_matrix(y_test, logistic_predictions)\n",
    "accuracy = accuracy_score(y_test, logistic_predictions)\n",
    "print(f\"Logistic Regression Accuracy: {accuracy:.2f}\")\n",
    "print(\"Logistic Regression Classification Report:\")\n",
    "print(classification_report(y_test, logistic_predictions))\n",
    "print()\n",
    "recall1 = float(conf_matrix[1, 1]/(conf_matrix[1,1]+conf_matrix[1,0]))\n",
    "prec1  = float(conf_matrix[1, 1]/(conf_matrix[1,1]+conf_matrix[0,1]))\n",
    "f_score1 = (2*recall1*prec1)/(recall1 + prec1)\n",
    "print('Recall ', recall1)\n",
    "print('F1- Score  ', f_score1)\n",
    "print()\n",
    "# Fin du chronomètre\n",
    "end_time = time.time()\n",
    "# Calcul du temps d'exécution\n",
    "execution_time = end_time - start_time\n",
    "print(f\"Temps d'exécution Détection de primitives : {execution_time} secondes\")"
   ]
  },
  {
   "cell_type": "code",
   "execution_count": 33,
   "id": "3ca1a874",
   "metadata": {},
   "outputs": [
    {
     "name": "stdout",
     "output_type": "stream",
     "text": [
      "[[ 4336  1540]\n",
      " [  221 18255]]\n"
     ]
    },
    {
     "data": {
      "text/plain": [
       "<function matplotlib.pyplot.show(close=None, block=None)>"
      ]
     },
     "execution_count": 33,
     "metadata": {},
     "output_type": "execute_result"
    },
    {
     "data": {
      "image/png": "[encoded data removed]",
      "text/plain": [
       "<Figure size 800x600 with 1 Axes>"
      ]
     },
     "metadata": {},
     "output_type": "display_data"
    }
   ],
   "source": [
    "# Création de la matrice de confusion\n",
    "conf_matrix = confusion_matrix(y_test, logistic_predictions)\n",
    "print(conf_matrix)\n",
    "# Définir l'ordre des classes\n",
    "class_names = ['Normal', 'Attaques']\n",
    "\n",
    "# Affichage de la matrice de confusion sous forme de heatmap avec annotations\n",
    "plt.figure(figsize=(8, 6))\n",
    "sns.heatmap(conf_matrix, annot=True, fmt='d', cmap='Blues', cbar=False,\n",
    "            xticklabels=class_names, yticklabels=class_names)\n",
    "plt.title('Matrice de Confusion - Régression Logistique')\n",
    "plt.show"
   ]
  },
  {
   "cell_type": "code",
   "execution_count": 34,
   "id": "afafc4c0",
   "metadata": {},
   "outputs": [
    {
     "data": {
      "image/png": "[encoded data removed]",
      "text/plain": [
       "<Figure size 640x480 with 1 Axes>"
      ]
     },
     "metadata": {},
     "output_type": "display_data"
    },
    {
     "name": "stdout",
     "output_type": "stream",
     "text": [
      "Area Under the Curve  0.8629777433930441\n"
     ]
    }
   ],
   "source": [
    "# Calculate AUC\n",
    "logistic_auc = roc_auc_score(y_test, logistic_predictions)\n",
    "\n",
    "# Generate ROC curve\n",
    "fpr, tpr, _ = roc_curve(y_test, logistic_predictions)\n",
    "plt.plot(fpr, tpr, label=' Classifier (area = %0.2f)' % logistic_auc)\n",
    "plt.plot([0, 1], [0, 1],'r--')\n",
    "plt.xlim([0.0, 1.0])\n",
    "plt.ylim([0.0, 1.0])\n",
    "plt.xlabel('False Positive Rate')\n",
    "plt.ylabel('True Positive Rate')\n",
    "plt.show()\n",
    "print('Area Under the Curve ', logistic_auc)"
   ]
  },
  {
   "cell_type": "code",
   "execution_count": 35,
   "id": "fd4375ca",
   "metadata": {},
   "outputs": [],
   "source": [
    "with open('LogisticRegression.pkl', 'wb') as file:\n",
    "    # Utiliser pickle pour sérialiser et sauvegarder le modèle dans le fichier\n",
    "    pickle.dump(logistic_model, file)"
   ]
  },
  {
   "cell_type": "markdown",
   "id": "5f006a70",
   "metadata": {},
   "source": [
    "modele Random forest"
   ]
  },
  {
   "cell_type": "code",
   "execution_count": 36,
   "id": "bfeb3067",
   "metadata": {},
   "outputs": [
    {
     "name": "stdout",
     "output_type": "stream",
     "text": [
      "Model Accuracy: 0.9847240473061761\n",
      "Classification Report:\n",
      "               precision    recall  f1-score   support\n",
      "\n",
      "           0       0.98      0.95      0.97      5876\n",
      "           1       0.99      0.99      0.99     18476\n",
      "\n",
      "    accuracy                           0.98     24352\n",
      "   macro avg       0.98      0.97      0.98     24352\n",
      "weighted avg       0.98      0.98      0.98     24352\n",
      "\n",
      "\n",
      "Recall  0.994208703182507\n",
      "F1- Score   0.9899757477768795\n",
      "\n",
      "Temps d'exécution Détection de primitives : 10.265439987182617 secondes\n"
     ]
    }
   ],
   "source": [
    "from sklearn.ensemble import RandomForestClassifier\n",
    "# Avant d'exécuter le code, on mémorise le temps de départ\n",
    "start = time.time()\n",
    "# Début du chronomètre\n",
    "start_time = time.time()\n",
    "\n",
    "# Create and train the Random Forest Classifier\n",
    "rf_classifier = RandomForestClassifier(random_state=0, max_features='sqrt', n_estimators=100, max_depth=10)\n",
    "rf_classifier.fit(X_train, y_train)\n",
    "\n",
    "# Predict on the test set\n",
    "y_pred = rf_classifier.predict(X_test)\n",
    "\n",
    "# Evaluate the model\n",
    "accuracy = accuracy_score(y_test, y_pred)\n",
    "report = classification_report(y_test, y_pred)\n",
    "conf_matrix = confusion_matrix(y_test, y_pred)\n",
    "print(\"Model Accuracy:\", accuracy)\n",
    "print(\"Classification Report:\\n\", report)\n",
    "print()\n",
    "recall1 = float(conf_matrix[1, 1]/(conf_matrix[1,1]+conf_matrix[1,0]))\n",
    "prec1  = float(conf_matrix[1, 1]/(conf_matrix[1,1]+conf_matrix[0,1]))\n",
    "f_score1 = (2*recall1*prec1)/(recall1 + prec1)\n",
    "print('Recall ', recall1)\n",
    "print('F1- Score  ', f_score1)\n",
    "print()\n",
    "# Fin du chronomètre\n",
    "end_time = time.time()\n",
    "# Calcul du temps d'exécution\n",
    "execution_time = end_time - start_time\n",
    "print(f\"Temps d'exécution Détection de primitives : {execution_time} secondes\")"
   ]
  },
  {
   "cell_type": "code",
   "execution_count": 37,
   "id": "78081227",
   "metadata": {},
   "outputs": [
    {
     "name": "stdout",
     "output_type": "stream",
     "text": [
      "[[ 5611   265]\n",
      " [  107 18369]]\n"
     ]
    },
    {
     "data": {
      "image/png": "[encoded data removed]",
      "text/plain": [
       "<Figure size 800x600 with 1 Axes>"
      ]
     },
     "metadata": {},
     "output_type": "display_data"
    }
   ],
   "source": [
    "# Calculer la matrice de confusion\n",
    "conf_matrix = confusion_matrix(y_test, y_pred)\n",
    "print(conf_matrix)\n",
    "# Définir l'ordre des classes\n",
    "class_names = ['Normal', 'Attaques']\n",
    "\n",
    "# Afficher la matrice de confusion sous forme de heatmap avec annotations\n",
    "plt.figure(figsize=(8, 6))\n",
    "sns.heatmap(conf_matrix, annot=True, fmt='d', cmap='Blues', cbar=False,\n",
    "            xticklabels=class_names, yticklabels=class_names)\n",
    "plt.title('Matrice de Confusion - Random Forest Classifier')\n",
    "plt.show()"
   ]
  },
  {
   "cell_type": "code",
   "execution_count": 38,
   "id": "66aceecd",
   "metadata": {},
   "outputs": [
    {
     "data": {
      "image/png": "[encoded data removed]",
      "text/plain": [
       "<Figure size 640x480 with 1 Axes>"
      ]
     },
     "metadata": {},
     "output_type": "display_data"
    },
    {
     "name": "stdout",
     "output_type": "stream",
     "text": [
      "Area Under the Curve  0.9745549982896877\n"
     ]
    }
   ],
   "source": [
    "# Calculate AUC\n",
    "RandomForest_auc = roc_auc_score(y_test, y_pred)\n",
    "\n",
    "# Generate ROC curve\n",
    "fpr, tpr, _ = roc_curve(y_test, y_pred)\n",
    "plt.plot(fpr, tpr, label=' Classifier (area = %0.2f)' % RandomForest_auc)\n",
    "plt.plot([0, 1], [0, 1],'r--')\n",
    "plt.xlim([0.0, 1.0])\n",
    "plt.ylim([0.0, 1.0])\n",
    "plt.xlabel('False Positive Rate')\n",
    "plt.ylabel('True Positive Rate')\n",
    "plt.show()\n",
    "print('Area Under the Curve ', RandomForest_auc)"
   ]
  },
  {
   "cell_type": "code",
   "execution_count": 39,
   "id": "c5d40660",
   "metadata": {},
   "outputs": [],
   "source": [
    "with open('RandomForestClassifier.pkl', 'wb') as file:\n",
    "    # Utiliser pickle pour sérialiser et sauvegarder le modèle dans le fichier\n",
    "    pickle.dump(rf_classifier, file)"
   ]
  },
  {
   "cell_type": "markdown",
   "id": "d6845dd5",
   "metadata": {},
   "source": [
    "modele Decision Tree"
   ]
  },
  {
   "cell_type": "code",
   "execution_count": 41,
   "id": "4df06315",
   "metadata": {},
   "outputs": [
    {
     "name": "stdout",
     "output_type": "stream",
     "text": [
      "Model Accuracy: 0.9789339684625493\n",
      "Classification Report:\n",
      "               precision    recall  f1-score   support\n",
      "\n",
      "           0       1.00      0.91      0.95      5876\n",
      "           1       0.97      1.00      0.99     18476\n",
      "\n",
      "    accuracy                           0.98     24352\n",
      "   macro avg       0.99      0.96      0.97     24352\n",
      "weighted avg       0.98      0.98      0.98     24352\n",
      "\n",
      "\n",
      "Recall  1.0\n",
      "F1- Score   0.9863072200720672\n",
      "\n",
      "Temps d'exécution Détection de primitives : 0.7076964378356934 secondes\n"
     ]
    }
   ],
   "source": [
    "from sklearn.tree import DecisionTreeClassifier\n",
    "# Avant d'exécuter le code, on mémorise le temps de départ\n",
    "start = time.time()\n",
    "# Début du chronomètre\n",
    "start_time = time.time()\n",
    "\n",
    "# Create and train the decision tree\n",
    "DecisionTree = DecisionTreeClassifier(criterion = \"gini\", random_state = 100, max_depth=5, min_samples_leaf=100, min_samples_split=100)\n",
    "DecisionTree.fit(X_train, y_train)\n",
    "# Predict on the test set\n",
    "DecisionTree_pred = DecisionTree.predict(X_test)\n",
    "\n",
    "# Evaluate the model\n",
    "accuracy = accuracy_score(y_test, DecisionTree_pred)\n",
    "report = classification_report(y_test, DecisionTree_pred)\n",
    "conf_matrix = confusion_matrix(y_test, DecisionTree_pred)\n",
    "print(\"Model Accuracy:\", accuracy)\n",
    "print(\"Classification Report:\\n\", report)\n",
    "print()\n",
    "recall1 = float(conf_matrix[1, 1]/(conf_matrix[1,1]+conf_matrix[1,0]))\n",
    "prec1  = float(conf_matrix[1, 1]/(conf_matrix[1,1]+conf_matrix[0,1]))\n",
    "f_score1 = (2*recall1*prec1)/(recall1 + prec1)\n",
    "print('Recall ', recall1)\n",
    "print('F1- Score  ', f_score1)\n",
    "print()\n",
    "# Fin du chronomètre\n",
    "end_time = time.time()\n",
    "# Calcul du temps d'exécution\n",
    "execution_time = end_time - start_time\n",
    "print(f\"Temps d'exécution Détection de primitives : {execution_time} secondes\")"
   ]
  },
  {
   "cell_type": "code",
   "execution_count": 42,
   "id": "9ad95a7b",
   "metadata": {},
   "outputs": [
    {
     "name": "stdout",
     "output_type": "stream",
     "text": [
      "[[ 5363   513]\n",
      " [    0 18476]]\n"
     ]
    },
    {
     "data": {
      "image/png": "[encoded data removed]",
      "text/plain": [
       "<Figure size 800x600 with 1 Axes>"
      ]
     },
     "metadata": {},
     "output_type": "display_data"
    }
   ],
   "source": [
    "# Calculer la matrice de confusion\n",
    "conf_matrix = confusion_matrix(y_test, DecisionTree_pred)\n",
    "print(conf_matrix)\n",
    "# Définir l'ordre des classes\n",
    "class_names = ['Normal', 'Attaques']\n",
    "\n",
    "# Afficher la matrice de confusion sous forme de heatmap avec annotations\n",
    "plt.figure(figsize=(8, 6))\n",
    "sns.heatmap(conf_matrix, annot=True, fmt='d', cmap='Blues', cbar=False,\n",
    "            xticklabels=class_names, yticklabels=class_names)\n",
    "plt.title('Matrice de Confusion - Decision Tree Classifier')\n",
    "plt.show()"
   ]
  },
  {
   "cell_type": "code",
   "execution_count": 43,
   "id": "2f9b5171",
   "metadata": {},
   "outputs": [
    {
     "data": {
      "image/png": "[encoded data removed]",
      "text/plain": [
       "<Figure size 640x480 with 1 Axes>"
      ]
     },
     "metadata": {},
     "output_type": "display_data"
    },
    {
     "name": "stdout",
     "output_type": "stream",
     "text": [
      "Area Under the Curve  0.9563478556841389\n"
     ]
    }
   ],
   "source": [
    "# Calculate AUC\n",
    "DecisionTree_auc = roc_auc_score(y_test, DecisionTree_pred)\n",
    "\n",
    "# Generate ROC curve\n",
    "fpr, tpr, _ = roc_curve(y_test, DecisionTree_pred)\n",
    "plt.plot(fpr, tpr, label=' Classifier (area = %0.2f)' % DecisionTree_auc)\n",
    "plt.plot([0, 1], [0, 1],'r--')\n",
    "plt.xlim([0.0, 1.0])\n",
    "plt.ylim([0.0, 1.0])\n",
    "plt.xlabel('False Positive Rate')\n",
    "plt.ylabel('True Positive Rate')\n",
    "plt.show()\n",
    "print('Area Under the Curve ', DecisionTree_auc)"
   ]
  },
  {
   "cell_type": "code",
   "execution_count": 44,
   "id": "c2fe13cc",
   "metadata": {},
   "outputs": [],
   "source": [
    "with open('DecisionTreeClassifier.pkl', 'wb') as file:\n",
    "    # Utiliser pickle pour sérialiser et sauvegarder le modèle dans le fichier\n",
    "    pickle.dump(DecisionTree, file)"
   ]
  },
  {
   "cell_type": "markdown",
   "id": "91dec48e",
   "metadata": {},
   "source": [
    "Modele Support Vector Machines"
   ]
  },
  {
   "cell_type": "code",
   "execution_count": 46,
   "id": "018d3cd9",
   "metadata": {},
   "outputs": [
    {
     "name": "stdout",
     "output_type": "stream",
     "text": [
      "Model Accuracy: 0.877258541392904\n",
      "Classification Report:\n",
      "               precision    recall  f1-score   support\n",
      "\n",
      "           0       0.83      0.62      0.71      5876\n",
      "           1       0.89      0.96      0.92     18476\n",
      "\n",
      "    accuracy                           0.88     24352\n",
      "   macro avg       0.86      0.79      0.82     24352\n",
      "weighted avg       0.87      0.88      0.87     24352\n",
      "\n",
      "\n",
      "Recall  0.9584866854297467\n",
      "F1- Score   0.9221756450647017\n",
      "\n",
      "Temps d'exécution Détection de primitives : 306.7502977848053 secondes\n"
     ]
    }
   ],
   "source": [
    "from sklearn.svm import SVC\n",
    "# Avant d'exécuter le code, on mémorise le temps de départ\n",
    "start = time.time()\n",
    "# Début du chronomètre\n",
    "start_time = time.time()\n",
    "\n",
    "# Create and train the SVC\n",
    "SVM = SVC(kernel = 'rbf')\n",
    "SVM.fit(X_train, y_train)\n",
    "# Predict on the test set\n",
    "SVM_pred = SVM.predict(X_test)\n",
    "\n",
    "# Evaluate the model\n",
    "accuracy = accuracy_score(y_test, SVM_pred)\n",
    "report = classification_report(y_test, SVM_pred)\n",
    "conf_matrix = confusion_matrix(y_test, SVM_pred)\n",
    "print(\"Model Accuracy:\", accuracy)\n",
    "print(\"Classification Report:\\n\", report)\n",
    "print()\n",
    "recall1 = float(conf_matrix[1, 1]/(conf_matrix[1,1]+conf_matrix[1,0]))\n",
    "prec1  = float(conf_matrix[1, 1]/(conf_matrix[1,1]+conf_matrix[0,1]))\n",
    "f_score1 = (2*recall1*prec1)/(recall1 + prec1)\n",
    "print('Recall ', recall1)\n",
    "print('F1- Score  ', f_score1)\n",
    "print()\n",
    "# Fin du chronomètre\n",
    "end_time = time.time()\n",
    "# Calcul du temps d'exécution\n",
    "execution_time = end_time - start_time\n",
    "print(f\"Temps d'exécution Détection de primitives : {execution_time} secondes\")"
   ]
  },
  {
   "cell_type": "code",
   "execution_count": 47,
   "id": "cfc675e3",
   "metadata": {},
   "outputs": [
    {
     "name": "stdout",
     "output_type": "stream",
     "text": [
      "[[ 3654  2222]\n",
      " [  767 17709]]\n"
     ]
    },
    {
     "data": {
      "image/png": "[encoded data removed]",
      "text/plain": [
       "<Figure size 800x600 with 1 Axes>"
      ]
     },
     "metadata": {},
     "output_type": "display_data"
    }
   ],
   "source": [
    "# Calculer la matrice de confusion\n",
    "conf_matrix = confusion_matrix(y_test, SVM_pred)\n",
    "print(conf_matrix)\n",
    "# Définir l'ordre des classes\n",
    "class_names = ['Normal', 'Attaques']\n",
    "\n",
    "# Afficher la matrice de confusion sous forme de heatmap avec annotations\n",
    "plt.figure(figsize=(8, 6))\n",
    "sns.heatmap(conf_matrix, annot=True, fmt='d', cmap='Blues', cbar=False,\n",
    "            xticklabels=class_names, yticklabels=class_names)\n",
    "plt.title('Matrice de Confusion - SVM Classifier')\n",
    "plt.show()"
   ]
  },
  {
   "cell_type": "code",
   "execution_count": 48,
   "id": "259002f8",
   "metadata": {},
   "outputs": [
    {
     "data": {
      "image/png": "[encoded data removed]",
      "text/plain": [
       "<Figure size 640x480 with 1 Axes>"
      ]
     },
     "metadata": {},
     "output_type": "display_data"
    },
    {
     "name": "stdout",
     "output_type": "stream",
     "text": [
      "Area Under the Curve  0.7901691425787263\n"
     ]
    }
   ],
   "source": [
    "# Calculate AUC\n",
    "SVM_auc = roc_auc_score(y_test, SVM_pred)\n",
    "\n",
    "# Generate ROC curve\n",
    "fpr, tpr, _ = roc_curve(y_test, SVM_pred)\n",
    "plt.plot(fpr, tpr, label=' Classifier (area = %0.2f)' % SVM_auc)\n",
    "plt.plot([0, 1], [0, 1],'r--')\n",
    "plt.xlim([0.0, 1.0])\n",
    "plt.ylim([0.0, 1.0])\n",
    "plt.xlabel('False Positive Rate')\n",
    "plt.ylabel('True Positive Rate')\n",
    "plt.show()\n",
    "print('Area Under the Curve ', SVM_auc)"
   ]
  },
  {
   "cell_type": "code",
   "execution_count": 49,
   "id": "18f2d79d",
   "metadata": {},
   "outputs": [],
   "source": [
    "with open('SVM.pkl', 'wb') as file:\n",
    "    # Utiliser pickle pour sérialiser et sauvegarder le modèle dans le fichier\n",
    "    pickle.dump(SVM, file)"
   ]
  },
  {
   "cell_type": "code",
   "execution_count": null,
   "id": "f71a498c",
   "metadata": {},
   "outputs": [],
   "source": []
  }
 ],
 "metadata": {
  "kernelspec": {
   "display_name": "Python 3 (ipykernel)",
   "language": "python",
   "name": "python3"
  },
  "language_info": {
   "codemirror_mode": {
    "name": "ipython",
    "version": 3
   },
   "file_extension": ".py",
   "mimetype": "text/x-python",
   "name": "python",
   "nbconvert_exporter": "python",
   "pygments_lexer": "ipython3",
   "version": "3.12.2"
  }
 },
 "nbformat": 4,
 "nbformat_minor": 5
}
